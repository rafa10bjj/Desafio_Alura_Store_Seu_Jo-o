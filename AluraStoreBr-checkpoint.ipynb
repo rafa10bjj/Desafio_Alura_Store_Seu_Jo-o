{
 "cells": [
  {
   "cell_type": "markdown",
   "metadata": {},
   "source": [
    "# Importando os dados via GitHub\n",
    "    Com o caminho das bases disponivél atribuimos a 4 variaveis.\n",
    "    Em seguida colocamos pandas para ler cada uma delas."
   ]
  },
  {
   "cell_type": "code",
   "execution_count": 289,
   "metadata": {
    "colab": {
     "base_uri": "https://localhost:8080/",
     "height": 206
    },
    "id": "T3EvaeQ_INIL",
    "outputId": "7194bc65-372c-47e6-cb47-d4bfc9952c91",
    "scrolled": true
   },
   "outputs": [
    {
     "data": {
      "text/html": [
       "<div>\n",
       "<style scoped>\n",
       "    .dataframe tbody tr th:only-of-type {\n",
       "        vertical-align: middle;\n",
       "    }\n",
       "\n",
       "    .dataframe tbody tr th {\n",
       "        vertical-align: top;\n",
       "    }\n",
       "\n",
       "    .dataframe thead th {\n",
       "        text-align: right;\n",
       "    }\n",
       "</style>\n",
       "<table border=\"1\" class=\"dataframe\">\n",
       "  <thead>\n",
       "    <tr style=\"text-align: right;\">\n",
       "      <th></th>\n",
       "      <th>Produto</th>\n",
       "      <th>Categoria do Produto</th>\n",
       "      <th>Preço</th>\n",
       "      <th>Frete</th>\n",
       "      <th>Data da Compra</th>\n",
       "      <th>Vendedor</th>\n",
       "      <th>Local da compra</th>\n",
       "      <th>Avaliação da compra</th>\n",
       "      <th>Tipo de pagamento</th>\n",
       "      <th>Quantidade de parcelas</th>\n",
       "      <th>lat</th>\n",
       "      <th>lon</th>\n",
       "    </tr>\n",
       "  </thead>\n",
       "  <tbody>\n",
       "    <tr>\n",
       "      <th>0</th>\n",
       "      <td>Cadeira de escritório</td>\n",
       "      <td>moveis</td>\n",
       "      <td>378.20</td>\n",
       "      <td>20.421138</td>\n",
       "      <td>04/08/2021</td>\n",
       "      <td>Thiago Silva</td>\n",
       "      <td>MG</td>\n",
       "      <td>1</td>\n",
       "      <td>boleto</td>\n",
       "      <td>1</td>\n",
       "      <td>-18.10</td>\n",
       "      <td>-44.38</td>\n",
       "    </tr>\n",
       "    <tr>\n",
       "      <th>1</th>\n",
       "      <td>Pandeiro</td>\n",
       "      <td>instrumentos musicais</td>\n",
       "      <td>102.37</td>\n",
       "      <td>3.035334</td>\n",
       "      <td>26/11/2020</td>\n",
       "      <td>Bianca Santos</td>\n",
       "      <td>RJ</td>\n",
       "      <td>3</td>\n",
       "      <td>cartao_credito</td>\n",
       "      <td>4</td>\n",
       "      <td>-22.25</td>\n",
       "      <td>-42.66</td>\n",
       "    </tr>\n",
       "    <tr>\n",
       "      <th>2</th>\n",
       "      <td>Cama king</td>\n",
       "      <td>moveis</td>\n",
       "      <td>591.13</td>\n",
       "      <td>31.759020</td>\n",
       "      <td>22/10/2021</td>\n",
       "      <td>Thiago Silva</td>\n",
       "      <td>SC</td>\n",
       "      <td>5</td>\n",
       "      <td>cartao_credito</td>\n",
       "      <td>10</td>\n",
       "      <td>-27.45</td>\n",
       "      <td>-50.95</td>\n",
       "    </tr>\n",
       "    <tr>\n",
       "      <th>3</th>\n",
       "      <td>Cama king</td>\n",
       "      <td>moveis</td>\n",
       "      <td>1208.24</td>\n",
       "      <td>61.919584</td>\n",
       "      <td>04/05/2022</td>\n",
       "      <td>Larissa Alves</td>\n",
       "      <td>RS</td>\n",
       "      <td>5</td>\n",
       "      <td>cartao_credito</td>\n",
       "      <td>10</td>\n",
       "      <td>-30.17</td>\n",
       "      <td>-53.50</td>\n",
       "    </tr>\n",
       "    <tr>\n",
       "      <th>4</th>\n",
       "      <td>Cadeira de escritório</td>\n",
       "      <td>moveis</td>\n",
       "      <td>530.41</td>\n",
       "      <td>25.827176</td>\n",
       "      <td>26/02/2022</td>\n",
       "      <td>Lucas Oliveira</td>\n",
       "      <td>SP</td>\n",
       "      <td>4</td>\n",
       "      <td>cartao_credito</td>\n",
       "      <td>3</td>\n",
       "      <td>-22.19</td>\n",
       "      <td>-48.79</td>\n",
       "    </tr>\n",
       "  </tbody>\n",
       "</table>\n",
       "</div>"
      ],
      "text/plain": [
       "                 Produto   Categoria do Produto    Preço      Frete  \\\n",
       "0  Cadeira de escritório                 moveis   378.20  20.421138   \n",
       "1               Pandeiro  instrumentos musicais   102.37   3.035334   \n",
       "2              Cama king                 moveis   591.13  31.759020   \n",
       "3              Cama king                 moveis  1208.24  61.919584   \n",
       "4  Cadeira de escritório                 moveis   530.41  25.827176   \n",
       "\n",
       "  Data da Compra        Vendedor Local da compra  Avaliação da compra  \\\n",
       "0     04/08/2021    Thiago Silva              MG                    1   \n",
       "1     26/11/2020   Bianca Santos              RJ                    3   \n",
       "2     22/10/2021    Thiago Silva              SC                    5   \n",
       "3     04/05/2022   Larissa Alves              RS                    5   \n",
       "4     26/02/2022  Lucas Oliveira              SP                    4   \n",
       "\n",
       "  Tipo de pagamento  Quantidade de parcelas    lat    lon  \n",
       "0            boleto                       1 -18.10 -44.38  \n",
       "1    cartao_credito                       4 -22.25 -42.66  \n",
       "2    cartao_credito                      10 -27.45 -50.95  \n",
       "3    cartao_credito                      10 -30.17 -53.50  \n",
       "4    cartao_credito                       3 -22.19 -48.79  "
      ]
     },
     "execution_count": 289,
     "metadata": {},
     "output_type": "execute_result"
    }
   ],
   "source": [
    "#Importando as Bases de Dados\n",
    "\n",
    "import pandas as pd\n",
    "import matplotlib.pyplot as plt\n",
    "\n",
    "url = \"https://raw.githubusercontent.com/alura-es-cursos/challenge1-data-science/refs/heads/main/base-de-dados-challenge-1/loja_1.csv\"\n",
    "url2 = \"https://raw.githubusercontent.com/alura-es-cursos/challenge1-data-science/refs/heads/main/base-de-dados-challenge-1/loja_2.csv\"\n",
    "url3 = \"https://raw.githubusercontent.com/alura-es-cursos/challenge1-data-science/refs/heads/main/base-de-dados-challenge-1/loja_3.csv\"\n",
    "url4 = \"https://raw.githubusercontent.com/alura-es-cursos/challenge1-data-science/refs/heads/main/base-de-dados-challenge-1/loja_4.csv\"\n",
    "\n",
    "loja = pd.read_csv(url)\n",
    "loja2 = pd.read_csv(url2)\n",
    "loja3 = pd.read_csv(url3)\n",
    "loja4 = pd.read_csv(url4)\n",
    "\n",
    "loja2.head()"
   ]
  },
  {
   "cell_type": "markdown",
   "metadata": {},
   "source": [
    "# Verificando  as colunas e tipos de dados e valores nulos"
   ]
  },
  {
   "cell_type": "code",
   "execution_count": 291,
   "metadata": {},
   "outputs": [
    {
     "name": "stdout",
     "output_type": "stream",
     "text": [
      "<class 'pandas.core.frame.DataFrame'>\n",
      "RangeIndex: 2359 entries, 0 to 2358\n",
      "Data columns (total 12 columns):\n",
      " #   Column                  Non-Null Count  Dtype  \n",
      "---  ------                  --------------  -----  \n",
      " 0   Produto                 2359 non-null   object \n",
      " 1   Categoria do Produto    2359 non-null   object \n",
      " 2   Preço                   2359 non-null   float64\n",
      " 3   Frete                   2359 non-null   float64\n",
      " 4   Data da Compra          2359 non-null   object \n",
      " 5   Vendedor                2359 non-null   object \n",
      " 6   Local da compra         2359 non-null   object \n",
      " 7   Avaliação da compra     2359 non-null   int64  \n",
      " 8   Tipo de pagamento       2359 non-null   object \n",
      " 9   Quantidade de parcelas  2359 non-null   int64  \n",
      " 10  lat                     2359 non-null   float64\n",
      " 11  lon                     2359 non-null   float64\n",
      "dtypes: float64(4), int64(2), object(6)\n",
      "memory usage: 221.3+ KB\n"
     ]
    }
   ],
   "source": [
    "loja.info()"
   ]
  },
  {
   "cell_type": "code",
   "execution_count": 292,
   "metadata": {},
   "outputs": [
    {
     "data": {
      "text/html": [
       "<div>\n",
       "<style scoped>\n",
       "    .dataframe tbody tr th:only-of-type {\n",
       "        vertical-align: middle;\n",
       "    }\n",
       "\n",
       "    .dataframe tbody tr th {\n",
       "        vertical-align: top;\n",
       "    }\n",
       "\n",
       "    .dataframe thead th {\n",
       "        text-align: right;\n",
       "    }\n",
       "</style>\n",
       "<table border=\"1\" class=\"dataframe\">\n",
       "  <thead>\n",
       "    <tr style=\"text-align: right;\">\n",
       "      <th></th>\n",
       "      <th>Preço</th>\n",
       "      <th>Frete</th>\n",
       "      <th>Avaliação da compra</th>\n",
       "      <th>Quantidade de parcelas</th>\n",
       "      <th>lat</th>\n",
       "      <th>lon</th>\n",
       "    </tr>\n",
       "  </thead>\n",
       "  <tbody>\n",
       "    <tr>\n",
       "      <th>count</th>\n",
       "      <td>2359.000000</td>\n",
       "      <td>2359.000000</td>\n",
       "      <td>2359.000000</td>\n",
       "      <td>2359.000000</td>\n",
       "      <td>2359.000000</td>\n",
       "      <td>2359.000000</td>\n",
       "    </tr>\n",
       "    <tr>\n",
       "      <th>mean</th>\n",
       "      <td>650.491361</td>\n",
       "      <td>34.691805</td>\n",
       "      <td>3.976685</td>\n",
       "      <td>2.943196</td>\n",
       "      <td>-20.763366</td>\n",
       "      <td>-47.349385</td>\n",
       "    </tr>\n",
       "    <tr>\n",
       "      <th>std</th>\n",
       "      <td>819.582778</td>\n",
       "      <td>43.814183</td>\n",
       "      <td>1.415370</td>\n",
       "      <td>2.819897</td>\n",
       "      <td>5.372400</td>\n",
       "      <td>4.183180</td>\n",
       "    </tr>\n",
       "    <tr>\n",
       "      <th>min</th>\n",
       "      <td>10.070000</td>\n",
       "      <td>0.000000</td>\n",
       "      <td>1.000000</td>\n",
       "      <td>1.000000</td>\n",
       "      <td>-30.170000</td>\n",
       "      <td>-70.550000</td>\n",
       "    </tr>\n",
       "    <tr>\n",
       "      <th>25%</th>\n",
       "      <td>74.345000</td>\n",
       "      <td>4.141783</td>\n",
       "      <td>3.000000</td>\n",
       "      <td>1.000000</td>\n",
       "      <td>-22.250000</td>\n",
       "      <td>-48.790000</td>\n",
       "    </tr>\n",
       "    <tr>\n",
       "      <th>50%</th>\n",
       "      <td>313.750000</td>\n",
       "      <td>16.498835</td>\n",
       "      <td>5.000000</td>\n",
       "      <td>1.000000</td>\n",
       "      <td>-22.190000</td>\n",
       "      <td>-48.790000</td>\n",
       "    </tr>\n",
       "    <tr>\n",
       "      <th>75%</th>\n",
       "      <td>904.130000</td>\n",
       "      <td>48.050074</td>\n",
       "      <td>5.000000</td>\n",
       "      <td>4.000000</td>\n",
       "      <td>-18.100000</td>\n",
       "      <td>-44.380000</td>\n",
       "    </tr>\n",
       "    <tr>\n",
       "      <th>max</th>\n",
       "      <td>3969.380000</td>\n",
       "      <td>214.377060</td>\n",
       "      <td>5.000000</td>\n",
       "      <td>24.000000</td>\n",
       "      <td>1.410000</td>\n",
       "      <td>-36.590000</td>\n",
       "    </tr>\n",
       "  </tbody>\n",
       "</table>\n",
       "</div>"
      ],
      "text/plain": [
       "             Preço        Frete  Avaliação da compra  Quantidade de parcelas  \\\n",
       "count  2359.000000  2359.000000          2359.000000             2359.000000   \n",
       "mean    650.491361    34.691805             3.976685                2.943196   \n",
       "std     819.582778    43.814183             1.415370                2.819897   \n",
       "min      10.070000     0.000000             1.000000                1.000000   \n",
       "25%      74.345000     4.141783             3.000000                1.000000   \n",
       "50%     313.750000    16.498835             5.000000                1.000000   \n",
       "75%     904.130000    48.050074             5.000000                4.000000   \n",
       "max    3969.380000   214.377060             5.000000               24.000000   \n",
       "\n",
       "               lat          lon  \n",
       "count  2359.000000  2359.000000  \n",
       "mean    -20.763366   -47.349385  \n",
       "std       5.372400     4.183180  \n",
       "min     -30.170000   -70.550000  \n",
       "25%     -22.250000   -48.790000  \n",
       "50%     -22.190000   -48.790000  \n",
       "75%     -18.100000   -44.380000  \n",
       "max       1.410000   -36.590000  "
      ]
     },
     "execution_count": 292,
     "metadata": {},
     "output_type": "execute_result"
    }
   ],
   "source": [
    "loja.shape\n",
    "loja.describe()\n",
    "#loja2.describe()\n",
    "#loja3.describe()\n",
    "#loja4.describe()"
   ]
  },
  {
   "cell_type": "markdown",
   "metadata": {
    "id": "X62IW3KFUIYm"
   },
   "source": [
    "# Análise do faturamento  por lojas\n",
    "    - Nessa usei um formato de trabalhar chamando as funcões.\n",
    "    - Assim  podemos chamar como e quando quiser dentro do codigo\n",
    "    - Usei um formato de Print diferente apenas para deixar o layuot aparentavél"
   ]
  },
  {
   "cell_type": "code",
   "execution_count": 294,
   "metadata": {
    "id": "xykobSftV64I"
   },
   "outputs": [
    {
     "name": "stdout",
     "output_type": "stream",
     "text": [
      "==================================================\n",
      "             FATURAMENTO TOTAL DA LOJA 1             \n",
      "==================================================\n",
      "O total de faturamento da loja 1: R$ 1,534,509.12\n",
      "==================================================\n"
     ]
    }
   ],
   "source": [
    "def Funcaoloja():\n",
    "    ft_loja1 = loja['Preço'].sum()\n",
    "    return f'O total de faturamento da loja 1: R$ {ft_loja1:,.2f}'\n",
    "print(\"=\" * 50)\n",
    "print(\"             FATURAMENTO TOTAL DA LOJA 1             \")\n",
    "print(\"=\" * 50)\n",
    "\n",
    "print(Funcaoloja())\n",
    "\n",
    "print(\"=\" * 50)\n"
   ]
  },
  {
   "cell_type": "code",
   "execution_count": 295,
   "metadata": {},
   "outputs": [
    {
     "name": "stdout",
     "output_type": "stream",
     "text": [
      "==================================================\n",
      "             FATURAMENTO TOTAL DA LOJA 2             \n",
      "==================================================\n",
      "O total de faturamento da loja 2: R$ 1,488,459.06\n",
      "==================================================\n"
     ]
    }
   ],
   "source": [
    "def Funcaoloja2():\n",
    "    ft_loja2 = loja2['Preço'].sum()\n",
    "    return f'O total de faturamento da loja 2: R$ {ft_loja2:,.2f}'\n",
    "print(\"=\" * 50)\n",
    "print(\"             FATURAMENTO TOTAL DA LOJA 2             \")\n",
    "print(\"=\" * 50)\n",
    "\n",
    "print(Funcaoloja2())\n",
    "\n",
    "# Adicionar uma borda final\n",
    "print(\"=\" * 50)\n"
   ]
  },
  {
   "cell_type": "code",
   "execution_count": 296,
   "metadata": {
    "id": "KDyr8E71V3m-"
   },
   "outputs": [
    {
     "name": "stdout",
     "output_type": "stream",
     "text": [
      "==================================================\n",
      "             FATURAMENTO TOTAL DA LOJA 3             \n",
      "==================================================\n",
      "O total de faturamento da loja 3: R$ 1,464,025.03\n",
      "==================================================\n"
     ]
    }
   ],
   "source": [
    "def Funcaoloja3():\n",
    "    ft_loja3 = loja3['Preço'].sum()\n",
    "    return f'O total de faturamento da loja 3: R$ {ft_loja3:,.2f}'\n",
    "print(\"=\" * 50)\n",
    "print(\"             FATURAMENTO TOTAL DA LOJA 3             \")\n",
    "print(\"=\" * 50)\n",
    "\n",
    "print(Funcaoloja3())\n",
    "\n",
    "print(\"=\" * 50)"
   ]
  },
  {
   "cell_type": "code",
   "execution_count": 297,
   "metadata": {},
   "outputs": [
    {
     "name": "stdout",
     "output_type": "stream",
     "text": [
      "==================================================\n",
      "             FATURAMENTO TOTAL DA LOJA 4            \n",
      "==================================================\n",
      "O total de faturamento da loja 4: R$ 1,384,497.58\n",
      "==================================================\n"
     ]
    }
   ],
   "source": [
    "def Funcaoloja4():\n",
    "    ft_loja4 = loja4['Preço'].sum()\n",
    "    return f'O total de faturamento da loja 4: R$ {ft_loja4:,.2f}'\n",
    "print(\"=\" * 50)\n",
    "print(\"             FATURAMENTO TOTAL DA LOJA 4            \")\n",
    "print(\"=\" * 50)\n",
    "print(Funcaoloja4())\n",
    "\n",
    "print(\"=\" * 50)"
   ]
  },
  {
   "cell_type": "markdown",
   "metadata": {},
   "source": [
    "# Grafico de barras com faturamento geral de cada loja"
   ]
  },
  {
   "cell_type": "code",
   "execution_count": 299,
   "metadata": {},
   "outputs": [
    {
     "data": {
      "image/png": "[encoded data removed]",
      "text/plain": [
       "<Figure size 1500x500 with 1 Axes>"
      ]
     },
     "metadata": {},
     "output_type": "display_data"
    }
   ],
   "source": [
    "#TIVE QUE CRIAR AS FUNÇÕES DE NOVO POR CONTA QUE  ESTAVA DANDO ERRO DE TYPE POIS O RETORNO DAS PRIMEIRAS SÃO STRING\n",
    "def Funcaoloja():\n",
    "    ft_loja1 = loja['Preço'].sum()  \n",
    "    return ft_loja1\n",
    "def Funcaoloja2():\n",
    "    ft_loja2 = loja2['Preço'].sum()  \n",
    "    return ft_loja2\n",
    "def Funcaoloja3():\n",
    "    ft_loja3 = loja3['Preço'].sum() \n",
    "    return ft_loja3\n",
    "def Funcaoloja4():\n",
    "    ft_loja4 = loja4['Preço'].sum()  \n",
    "    return ft_loja4\n",
    "\n",
    "resultados = [Funcaoloja(), Funcaoloja2(), Funcaoloja3(), Funcaoloja4()]\n",
    "lojas = ['Loja 1', 'Loja 2', 'Loja 3', 'Loja 4']\n",
    "cores = ['#FF6347', '#4682B4', '#32CD32', '#FFD700'] \n",
    "\n",
    "plt.figure(figsize=(15, 5))\n",
    "plt.bar(lojas, resultados, color=cores)\n",
    "\n",
    "plt.title('Faturamento Total por Loja', fontsize=14)\n",
    "plt.xlabel('Lojas', fontsize=12)\n",
    "plt.ylabel('Faturamento (R$)', fontsize=12)\n",
    "\n",
    "# Exibir valores no topo de cada barra\n",
    "for i, v in enumerate(resultados):\n",
    "    plt.text(i, v + 1000, f'R$ {v:,.2f}', ha='center', va='bottom', fontsize=10)\n",
    "\n",
    "# Mostrar o gráfico\n",
    "plt.tight_layout()\n",
    "plt.show()\n"
   ]
  },
  {
   "cell_type": "markdown",
   "metadata": {},
   "source": [
    "# Grafico de Pizza com percentual  geral de cada loja"
   ]
  },
  {
   "cell_type": "code",
   "execution_count": 367,
   "metadata": {},
   "outputs": [
    {
     "data": {
      "image/png": "[encoded data removed]",
      "text/plain": [
       "<Figure size 1500x500 with 1 Axes>"
      ]
     },
     "metadata": {},
     "output_type": "display_data"
    }
   ],
   "source": [
    "resultados = [Funcaoloja(), Funcaoloja2(), Funcaoloja3(), Funcaoloja4()]\n",
    "lojas = ['Loja 1', 'Loja 2', 'Loja 3', 'Loja 4']\n",
    "\n",
    "plt.figure(figsize=(15, 5))\n",
    "plt.pie(resultados, labels=lojas, autopct='%1.1f%%', colors=['#FF6347', '#4682B4', '#32CD32', '#FFD700'], startangle=90)\n",
    "\n",
    "plt.title('Distribuição do Faturamento por Loja', fontsize=14)\n",
    "\n",
    "# Mostrar o gráfico\n",
    "plt.axis('equal')  # Isso garante que o gráfico de pizza seja desenhado como um círculo perfeito\n",
    "plt.show()\n"
   ]
  },
  {
   "cell_type": "markdown",
   "metadata": {
    "id": "2V_vcAPzWZmR"
   },
   "source": [
    "\n",
    "# 2. Vendas por Categoria\n",
    "\n"
   ]
  },
  {
   "cell_type": "code",
   "execution_count": 303,
   "metadata": {},
   "outputs": [
    {
     "name": "stdout",
     "output_type": "stream",
     "text": [
      "==================================================\n",
      "     Total de Faturamento por Categoria  loja 1          \n",
      "==================================================\n",
      "\n",
      "Categoria    | Faturamento\n",
      "--------------------------------------------------\n",
      "eletronicos | R$ 572,659.23\n",
      "eletrodomesticos | R$ 484,913.36\n",
      "moveis | R$ 250,178.11\n",
      "instrumentos musicais | R$ 121,731.69\n",
      "esporte e lazer | R$ 52,387.55\n",
      "brinquedos | R$ 23,993.78\n",
      "utilidades domesticas | R$ 16,931.48\n",
      "livros | R$ 11,713.92\n",
      "==================================================\n",
      "O total de faturamento da loja 1 R$ 1,534,509.12\n"
     ]
    }
   ],
   "source": [
    "def Categorialoja():\n",
    "    categoria_loja = loja.groupby('Categoria do Produto')['Preço'].sum().sort_values(ascending=False)\n",
    "    return categoria_loja\n",
    "resultado = Categorialoja()\n",
    "resultado_formatado = resultado.apply(lambda x: f'R$ {x:,.2f}')\n",
    "\n",
    "print(\"=\" * 50)\n",
    "print(\"     Total de Faturamento por Categoria  loja 1          \")\n",
    "print(\"=\" * 50)\n",
    "print(\"\\nCategoria    | Faturamento\")\n",
    "print(\"-\" * 50)\n",
    "\n",
    "for categoria, faturamento in resultado_formatado.items():\n",
    "    print(f\"{categoria:} | {faturamento}\")\n",
    "\n",
    "print(\"=\" * 50)\n",
    "print(f'O total de faturamento da loja 1 R$ {Funcaoloja():,.2f}')"
   ]
  },
  {
   "cell_type": "code",
   "execution_count": 304,
   "metadata": {
    "id": "yZR6cOjXYSk1"
   },
   "outputs": [
    {
     "name": "stdout",
     "output_type": "stream",
     "text": [
      "==================================================\n",
      "    Total de Faturamento por Categoria  loja 2          \n",
      "==================================================\n",
      "\n",
      "Categoria    | Faturamento\n",
      "--------------------------------------------------\n",
      "eletronicos     | R$ 547,773.71\n",
      "eletrodomesticos | R$ 464,758.13\n",
      "moveis          | R$ 235,234.68\n",
      "instrumentos musicais | R$ 139,987.03\n",
      "esporte e lazer | R$ 46,326.09\n",
      "brinquedos      | R$ 21,262.21\n",
      "utilidades domesticas | R$ 19,662.86\n",
      "livros          | R$ 13,454.35\n",
      "==================================================\n",
      "O total de faturamento da loja 2 R$ 1,488,459.06\n"
     ]
    }
   ],
   "source": [
    "def Categorialoja2():\n",
    "    categoria_loja2 = loja2.groupby('Categoria do Produto')['Preço'].sum().sort_values(ascending=False)\n",
    "    return categoria_loja2\n",
    "resultado2 = Categorialoja2()\n",
    "resultado_formatado2 = resultado2.apply(lambda x: f'R$ {x:,.2f}')\n",
    "\n",
    "print(\"=\" * 50)\n",
    "print(\"    Total de Faturamento por Categoria  loja 2          \")\n",
    "print(\"=\" * 50)\n",
    "print(\"\\nCategoria    | Faturamento\")\n",
    "print(\"-\" * 50)\n",
    "\n",
    "for categoria, faturamento in resultado_formatado2.items():\n",
    "    print(f\"{categoria:<15} | {faturamento}\")\n",
    "\n",
    "print(\"=\" * 50)\n",
    "print(f'O total de faturamento da loja 2 R$ {Funcaoloja2():,.2f}')"
   ]
  },
  {
   "cell_type": "code",
   "execution_count": 305,
   "metadata": {},
   "outputs": [
    {
     "name": "stdout",
     "output_type": "stream",
     "text": [
      "==================================================\n",
      "   Total de Faturamento por Categoria loja 3           \n",
      "==================================================\n",
      "\n",
      "Categoria    | Faturamento\n",
      "--------------------------------------------------\n",
      "eletronicos     | R$ 547,773.71\n",
      "eletrodomesticos | R$ 464,758.13\n",
      "moveis          | R$ 235,234.68\n",
      "instrumentos musicais | R$ 139,987.03\n",
      "esporte e lazer | R$ 46,326.09\n",
      "brinquedos      | R$ 21,262.21\n",
      "utilidades domesticas | R$ 19,662.86\n",
      "livros          | R$ 13,454.35\n",
      "==================================================\n",
      "O total de faturamento da loja 3 R$ 1,464,025.03\n"
     ]
    }
   ],
   "source": [
    "def Categorialoja3():\n",
    "    categoria_loja3 = loja3.groupby('Categoria do Produto')['Preço'].sum().sort_values(ascending=False)\n",
    "    return categoria_loja3\n",
    "resultado4 = Categorialoja4()\n",
    "resultado_formatado3 = resultado3.apply(lambda x: f'R$ {x:,.2f}')\n",
    "\n",
    "print(\"=\" * 50)\n",
    "print(\"   Total de Faturamento por Categoria loja 3           \")\n",
    "print(\"=\" * 50)\n",
    "print(\"\\nCategoria    | Faturamento\")\n",
    "print(\"-\" * 50)\n",
    "\n",
    "for categoria, faturamento in resultado_formatado2.items():\n",
    "    print(f\"{categoria:<15} | {faturamento}\")\n",
    "\n",
    "print(\"=\" * 50)\n",
    "print(f'O total de faturamento da loja 3 R$ {Funcaoloja3():,.2f}')"
   ]
  },
  {
   "cell_type": "code",
   "execution_count": 306,
   "metadata": {},
   "outputs": [
    {
     "name": "stdout",
     "output_type": "stream",
     "text": [
      "==================================================\n",
      "    Total de Faturamento por Categoria loja 4           \n",
      "==================================================\n",
      "\n",
      "Categoria    | Faturamento\n",
      "--------------------------------------------------\n",
      "eletronicos     | R$ 545,966.86\n",
      "eletrodomesticos | R$ 377,680.65\n",
      "moveis          | R$ 256,705.65\n",
      "instrumentos musicais | R$ 100,136.50\n",
      "esporte e lazer | R$ 44,465.65\n",
      "brinquedos      | R$ 27,015.67\n",
      "utilidades domesticas | R$ 20,098.83\n",
      "livros          | R$ 12,427.77\n",
      "==================================================\n",
      "O total de faturamento da loja 4 R$ 1,384,497.58\n"
     ]
    }
   ],
   "source": [
    "def Categorialoja4():\n",
    "    categoria_loja4 = loja4.groupby('Categoria do Produto')['Preço'].sum().sort_values(ascending=False)\n",
    "    return categoria_loja4\n",
    "resultado3 = Categorialoja4()\n",
    "resultado_formatado4 = resultado4.apply(lambda x: f'R$ {x:,.2f}')\n",
    "\n",
    "print(\"=\" * 50)\n",
    "print(\"    Total de Faturamento por Categoria loja 4           \")\n",
    "print(\"=\" * 50)\n",
    "print(\"\\nCategoria    | Faturamento\")\n",
    "print(\"-\" * 50)\n",
    "\n",
    "for categoria, faturamento in resultado_formatado4.items():\n",
    "    print(f\"{categoria:<15} | {faturamento}\")\n",
    "\n",
    "print(\"=\" * 50)\n",
    "print(f'O total de faturamento da loja 4 R$ {Funcaoloja4():,.2f}')"
   ]
  },
  {
   "cell_type": "markdown",
   "metadata": {
    "id": "Rq6tU_xSY3jk"
   },
   "source": [
    "# 3. Média de Avaliação das Lojas"
   ]
  },
  {
   "cell_type": "code",
   "execution_count": 308,
   "metadata": {
    "id": "I0KkjPoTY88F"
   },
   "outputs": [
    {
     "name": "stdout",
     "output_type": "stream",
     "text": [
      "==================================================\n",
      "        Cálculo da Média de Avaliação  loja 1          \n",
      "==================================================\n",
      "Total de pontos na  avaliações:  9381\n",
      "Quantidade de avaliações: 2359\n",
      "Média das avaliações:  3.98\n",
      "==================================================\n"
     ]
    }
   ],
   "source": [
    "\n",
    "    total = loja['Avaliação da compra'].sum()\n",
    "    \n",
    "    print(\"=\" * 50)\n",
    "    print(\"        Cálculo da Média de Avaliação  loja 1          \")\n",
    "    print(\"=\" * 50)\n",
    "    print(f\"Total de pontos na  avaliações:  {total:}\")\n",
    "     \n",
    "    qtd = len(loja['Avaliação da compra'])\n",
    "    print(f\"Quantidade de avaliações: {qtd}\")\n",
    "    \n",
    "    media1 = total / qtd\n",
    "    print(f\"Média das avaliações:  {media1:,.2f}\")\n",
    "    print(\"=\" * 50)\n",
    "\n"
   ]
  },
  {
   "cell_type": "code",
   "execution_count": 309,
   "metadata": {},
   "outputs": [
    {
     "name": "stdout",
     "output_type": "stream",
     "text": [
      "==================================================\n",
      "        Cálculo da Média de Avaliação loja 2          \n",
      "==================================================\n",
      "Total de pontos na  avaliações:  9524\n",
      "Quantidade de avaliações: 2359\n",
      "Média das avaliações:  4.04\n",
      "==================================================\n"
     ]
    }
   ],
   "source": [
    "\n",
    "total = loja2['Avaliação da compra'].sum()\n",
    "\n",
    "print(\"=\" * 50)\n",
    "print(\"        Cálculo da Média de Avaliação loja 2          \")\n",
    "print(\"=\" * 50)\n",
    "print(f\"Total de pontos na  avaliações:  {total:}\")\n",
    "\n",
    "qtd = len(loja2['Avaliação da compra'])\n",
    "print(f\"Quantidade de avaliações: {qtd}\")\n",
    "\n",
    "media2 = total / qtd\n",
    "print(f\"Média das avaliações:  {media2:,.2f}\")\n",
    "print(\"=\" * 50)\n"
   ]
  },
  {
   "cell_type": "code",
   "execution_count": 310,
   "metadata": {},
   "outputs": [
    {
     "name": "stdout",
     "output_type": "stream",
     "text": [
      "==================================================\n",
      "      Cálculo da Média de Avaliação  loja 3         \n",
      "==================================================\n",
      "Total de pontos na  avaliações:  9550\n",
      "Quantidade de avaliações: 2359\n",
      "Média das avaliações:  4.05\n",
      "==================================================\n"
     ]
    }
   ],
   "source": [
    "\n",
    "total = loja3['Avaliação da compra'].sum()\n",
    "\n",
    "print(\"=\" * 50)\n",
    "print(\"      Cálculo da Média de Avaliação  loja 3         \")\n",
    "print(\"=\" * 50)\n",
    "print(f\"Total de pontos na  avaliações:  {total:}\")\n",
    "\n",
    "qtd = len(loja3['Avaliação da compra'])\n",
    "print(f\"Quantidade de avaliações: {qtd}\")\n",
    "\n",
    "media3 = total / qtd\n",
    "print(f\"Média das avaliações:  {media3:,.2f}\")\n",
    "print(\"=\" * 50)\n"
   ]
  },
  {
   "cell_type": "code",
   "execution_count": 311,
   "metadata": {},
   "outputs": [
    {
     "name": "stdout",
     "output_type": "stream",
     "text": [
      "==================================================\n",
      "       Cálculo da Média de Avaliação  loja 4         \n",
      "==================================================\n",
      "Total de pontos na  avaliações:  9422\n",
      "Quantidade de avaliações: 2358\n",
      "Média das avaliações:  4.00\n",
      "==================================================\n"
     ]
    }
   ],
   "source": [
    "total = loja4['Avaliação da compra'].sum()\n",
    "print(\"=\" * 50)\n",
    "print(\"       Cálculo da Média de Avaliação  loja 4         \")\n",
    "print(\"=\" * 50)\n",
    "print(f\"Total de pontos na  avaliações:  {total:}\")\n",
    "\n",
    "qtd = len(loja4['Avaliação da compra'])\n",
    "print(f\"Quantidade de avaliações: {qtd}\")\n",
    "\n",
    "media4 = total / qtd\n",
    "print(f\"Média das avaliações:  {media4:,.2f}\")\n",
    "print(\"=\" * 50)\n"
   ]
  },
  {
   "cell_type": "code",
   "execution_count": 369,
   "metadata": {},
   "outputs": [
    {
     "data": {
      "image/png": "[encoded data removed]",
      "text/plain": [
       "<Figure size 1500x500 with 1 Axes>"
      ]
     },
     "metadata": {},
     "output_type": "display_data"
    }
   ],
   "source": [
    "lojas = ['Loja 1', 'Loja 2', 'Loja 3','loja 4']\n",
    "media_avaliacao = [media1, media2, media3, media4]  \n",
    "\n",
    "plt.figure(figsize=(15, 5))\n",
    "plt.plot(lojas, media_avaliacao, marker='o', linestyle='-', color='b', linewidth=2, markersize=8)\n",
    "\n",
    "plt.title('Média de Avaliação por Loja', fontsize=14)\n",
    "plt.xlabel('Lojas', fontsize=12)\n",
    "plt.ylabel('Média de Avaliação', fontsize=12)\n",
    "\n",
    "# Exibir os valores no gráfico\n",
    "for i, v in enumerate(media_avaliacao):\n",
    "    plt.text(i, v , f'{v:,.2f}', ha='center', va='bottom', fontsize=10)\n",
    "# Mostrar o gráfico\n",
    "plt.tight_layout()\n",
    "plt.show()"
   ]
  },
  {
   "cell_type": "markdown",
   "metadata": {
    "id": "DmNp1KPBZCm-"
   },
   "source": [
    "# 4. Produtos Mais e Menos Vendidos"
   ]
  },
  {
   "cell_type": "code",
   "execution_count": 314,
   "metadata": {
    "id": "qoyjqijQZHfF"
   },
   "outputs": [
    {
     "name": "stdout",
     "output_type": "stream",
     "text": [
      "==================================================\n",
      "       Produto Mais Vendido na Loja 1           \n",
      "==================================================\n",
      "Produto\n",
      "TV Led UHD 4K    189534.28\n",
      "Name: Preço, dtype: float64\n",
      "==================================================\n",
      "       Produto Menos Vendido na Loja 1           \n",
      "==================================================\n",
      "Produto\n",
      "Corda de pular    870.89\n",
      "Name: Preço, dtype: float64\n",
      "==================================================\n"
     ]
    }
   ],
   "source": [
    "def Produto_mais():\n",
    "    categoria_loja = loja.groupby('Produto')['Preço'].sum().sort_values(ascending=False)\n",
    "    top1 = categoria_loja.head(1) \n",
    "    return top1\n",
    "def Produto_menos():\n",
    "    categoria_loja = loja.groupby('Produto')['Preço'].sum().sort_values(ascending=True)\n",
    "    top1 = categoria_loja.head(1) \n",
    "    return top1\n",
    "# NESSA ANÁLISE  FOI FEITO O AGRUPAMENTO POR PRODUTO E E RANCKEANDO POR TOTAL DE VENDA EM VALOR  PODERIA TER USADO A (MAX , MIN ).\n",
    "# MAS TAMBÉM PODE SER REALIZADO  DE FORMA SIMPLES  O RESTANTE É APENAS DECORAÇÃO\n",
    "\n",
    "mais_vendido = Produto_mais()\n",
    "menos_vendido = Produto_menos()\n",
    "print(\"=\" * 50)\n",
    "print(\"       Produto Mais Vendido na Loja 1           \")\n",
    "print(\"=\" * 50)\n",
    "print(mais_vendido)\n",
    "\n",
    "print(\"=\" * 50)\n",
    "print(\"       Produto Menos Vendido na Loja 1           \")\n",
    "print(\"=\" * 50)\n",
    "print(menos_vendido)\n",
    "print(\"=\" * 50)\n"
   ]
  },
  {
   "cell_type": "code",
   "execution_count": 315,
   "metadata": {
    "id": "0Sw3sd4IZIGW"
   },
   "outputs": [
    {
     "name": "stdout",
     "output_type": "stream",
     "text": [
      "==================================================\n",
      "       Produto Mais Vendido na Loja 2           \n",
      "==================================================\n",
      "Produto\n",
      "Celular Plus X42    150967.83\n",
      "Name: Preço, dtype: float64\n",
      "==================================================\n",
      "       Produto Menos Vendido na Loja 2           \n",
      "==================================================\n",
      "Produto\n",
      "Cubo mágico 8x8    858.22\n",
      "Name: Preço, dtype: float64\n",
      "==================================================\n"
     ]
    }
   ],
   "source": [
    "def Produto_mais():\n",
    "    categoria_loja2 = loja2.groupby('Produto')['Preço'].sum().sort_values(ascending=False)\n",
    "    top1 = categoria_loja2.head(1) \n",
    "    return top1\n",
    "def Produto_menos():\n",
    "    categoria_loja2 = loja2.groupby('Produto')['Preço'].sum().sort_values(ascending=True)\n",
    "    top1 = categoria_loja2.head(1) \n",
    "    return top1\n",
    "# NESSA ANÁLISE  FOI FEITO O AGRUPAMENTO POR PRODUTO E E RANCKEANDO POR TOTAL DE VENDA EM VALOR  PODERIA TER USADO A (MAX , MIN ).\n",
    "# MAS TAMBÉM PODE SER REALIZADO  DE FORMA SIMPLES  O RESTANTE É APENAS DECORAÇÃO\n",
    "\n",
    "mais_vendido = Produto_mais()\n",
    "menos_vendido = Produto_menos()\n",
    "print(\"=\" * 50)\n",
    "print(\"       Produto Mais Vendido na Loja 2           \")\n",
    "print(\"=\" * 50)\n",
    "print(mais_vendido)\n",
    "\n",
    "print(\"=\" * 50)\n",
    "print(\"       Produto Menos Vendido na Loja 2           \")\n",
    "print(\"=\" * 50)\n",
    "print(menos_vendido)\n",
    "print(\"=\" * 50)\n",
    "\n"
   ]
  },
  {
   "cell_type": "code",
   "execution_count": 316,
   "metadata": {},
   "outputs": [
    {
     "name": "stdout",
     "output_type": "stream",
     "text": [
      "==================================================\n",
      "       Produto Mais Vendido na Loja 3           \n",
      "==================================================\n",
      "Produto\n",
      "Geladeira    133185.99\n",
      "Name: Preço, dtype: float64\n",
      "==================================================\n",
      "       Produto Menos Vendido na Loja 3           \n",
      "==================================================\n",
      "Produto\n",
      "Cubo mágico 8x8    853.81\n",
      "Name: Preço, dtype: float64\n",
      "==================================================\n"
     ]
    }
   ],
   "source": [
    "def Produto_mais():\n",
    "    categoria_loja3 = loja3.groupby('Produto')['Preço'].sum().sort_values(ascending=False)\n",
    "    top1 = categoria_loja3.head(1) \n",
    "    return top1\n",
    "def Produto_menos():\n",
    "    categoria_loja3 = loja3.groupby('Produto')['Preço'].sum().sort_values(ascending=True)\n",
    "    top1 = categoria_loja3.head(1) \n",
    "    return top1\n",
    "# NESSA ANÁLISE  FOI FEITO O AGRUPAMENTO POR PRODUTO E E RANCKEANDO POR TOTAL DE VENDA EM VALOR  PODERIA TER USADO A (MAX , MIN ).\n",
    "# MAS TAMBÉM PODE SER REALIZADO  DE FORMA SIMPLES  O RESTANTE É APENAS DECORAÇÃO\n",
    "\n",
    "mais_vendido = Produto_mais()\n",
    "menos_vendido = Produto_menos()\n",
    "print(\"=\" * 50)\n",
    "print(\"       Produto Mais Vendido na Loja 3           \")\n",
    "print(\"=\" * 50)\n",
    "print(mais_vendido)\n",
    "\n",
    "print(\"=\" * 50)\n",
    "print(\"       Produto Menos Vendido na Loja 3           \")\n",
    "print(\"=\" * 50)\n",
    "print(menos_vendido)\n",
    "print(\"=\" * 50)"
   ]
  },
  {
   "cell_type": "code",
   "execution_count": 317,
   "metadata": {},
   "outputs": [
    {
     "name": "stdout",
     "output_type": "stream",
     "text": [
      "==================================================\n",
      "       Produto Mais Vendido na Loja 4           \n",
      "==================================================\n",
      "Produto\n",
      "Celular Plus X42    128930.07\n",
      "Name: Preço, dtype: float64\n",
      "==================================================\n",
      "       Produto Menos Vendido na Loja 4           \n",
      "==================================================\n",
      "Produto\n",
      "Corda de pular    939.74\n",
      "Name: Preço, dtype: float64\n",
      "==================================================\n"
     ]
    }
   ],
   "source": [
    "def Produto_mais():\n",
    "    categoria_loja4 = loja4.groupby('Produto')['Preço'].sum().sort_values(ascending=False)\n",
    "    top1 = categoria_loja4.head(1) \n",
    "    return top1\n",
    "def Produto_menos():\n",
    "    categoria_loja4 = loja4.groupby('Produto')['Preço'].sum().sort_values(ascending=True)\n",
    "    top1 = categoria_loja4.head(1) \n",
    "    return top1\n",
    "# NESSA ANÁLISE  FOI FEITO O AGRUPAMENTO POR PRODUTO E E RANCKEANDO POR TOTAL DE VENDA EM VALOR  PODERIA TER USADO A (MAX , MIN ).\n",
    "# MAS TAMBÉM PODE SER REALIZADO  DE FORMA SIMPLES  O RESTANTE É APENAS DECORAÇÃO\n",
    "\n",
    "mais_vendido = Produto_mais()\n",
    "menos_vendido = Produto_menos()\n",
    "print(\"=\" * 50)\n",
    "print(\"       Produto Mais Vendido na Loja 4           \")\n",
    "print(\"=\" * 50)\n",
    "print(mais_vendido)\n",
    "\n",
    "print(\"=\" * 50)\n",
    "print(\"       Produto Menos Vendido na Loja 4           \")\n",
    "print(\"=\" * 50)\n",
    "print(menos_vendido)\n",
    "print(\"=\" * 50)"
   ]
  },
  {
   "cell_type": "markdown",
   "metadata": {
    "id": "Fl0cGi3bZKqU"
   },
   "source": [
    "# 5. Frete Médio por Loja\n"
   ]
  },
  {
   "cell_type": "code",
   "execution_count": 319,
   "metadata": {
    "id": "S2JeaCykZNy9"
   },
   "outputs": [
    {
     "name": "stdout",
     "output_type": "stream",
     "text": [
      "==================================================\n",
      "        Cálculo do Total e Média de Frete - Loja 1        \n",
      "==================================================\n",
      "Total de frete:  R$ 81,837.97\n",
      "Quantidade de registros: 2359\n",
      "Média do frete:  R$ 34.69\n",
      "==================================================\n"
     ]
    }
   ],
   "source": [
    "\n",
    "total = loja['Frete'].sum()\n",
    "\n",
    "print(\"=\" * 50)\n",
    "print(\"        Cálculo do Total e Média de Frete - Loja 1        \")\n",
    "print(\"=\" * 50)\n",
    "print(f\"Total de frete:  R$ {total:,.2f}\")  \n",
    "\n",
    "qtd = len(loja['Frete'])\n",
    "print(f\"Quantidade de registros: {qtd}\")\n",
    "\n",
    "# Calcular a média\n",
    "media_frete_loja1 = total / qtd\n",
    "print(f\"Média do frete:  R$ {media_frete_loja1:,.2f}\") \n",
    "print(\"=\" * 50)\n"
   ]
  },
  {
   "cell_type": "code",
   "execution_count": 320,
   "metadata": {
    "id": "0tSdCie9ZQlt"
   },
   "outputs": [
    {
     "name": "stdout",
     "output_type": "stream",
     "text": [
      "==================================================\n",
      "        Cálculo do Total e Média de Frete - Loja 1        \n",
      "==================================================\n",
      "Total de frete:  R$ 79,314.16\n",
      "Quantidade de registros: 2359\n",
      "Média do frete:  R$ 33.62\n",
      "==================================================\n"
     ]
    }
   ],
   "source": [
    "total = loja2['Frete'].sum()\n",
    "\n",
    "print(\"=\" * 50)\n",
    "print(\"        Cálculo do Total e Média de Frete - Loja 1        \")\n",
    "print(\"=\" * 50)\n",
    "print(f\"Total de frete:  R$ {total:,.2f}\")  \n",
    "\n",
    "qtd = len(loja2['Frete'])\n",
    "print(f\"Quantidade de registros: {qtd}\")\n",
    "\n",
    "# Calcular a média\n",
    "media_frete_loja2 = total / qtd\n",
    "print(f\"Média do frete:  R$ {media_frete_loja2:,.2f}\") \n",
    "print(\"=\" * 50)\n"
   ]
  },
  {
   "cell_type": "code",
   "execution_count": 321,
   "metadata": {},
   "outputs": [
    {
     "name": "stdout",
     "output_type": "stream",
     "text": [
      "==================================================\n",
      "        Cálculo do Total e Média de Frete - Loja 1        \n",
      "==================================================\n",
      "Total de frete:  R$ 78,022.66\n",
      "Quantidade de registros: 2359\n",
      "Média do frete:  R$ 33.07\n",
      "==================================================\n"
     ]
    }
   ],
   "source": [
    "total = loja3['Frete'].sum()\n",
    "\n",
    "print(\"=\" * 50)\n",
    "print(\"        Cálculo do Total e Média de Frete - Loja 1        \")\n",
    "print(\"=\" * 50)\n",
    "print(f\"Total de frete:  R$ {total:,.2f}\")  \n",
    "\n",
    "qtd = len(loja3['Frete'])\n",
    "print(f\"Quantidade de registros: {qtd}\")\n",
    "\n",
    "# Calcular a média\n",
    "media_frete_loja3 = total / qtd\n",
    "print(f\"Média do frete:  R$ {media_frete_loja3:,.2f}\") \n",
    "print(\"=\" * 50)\n"
   ]
  },
  {
   "cell_type": "code",
   "execution_count": 322,
   "metadata": {},
   "outputs": [
    {
     "name": "stdout",
     "output_type": "stream",
     "text": [
      "==================================================\n",
      "    Cálculo do Total e Média de Frete - Loja 1        \n",
      "==================================================\n",
      "Total de frete:  R$ 73,755.88\n",
      "Quantidade de registros: 2358\n",
      "Média do frete:  R$ 31.28\n",
      "==================================================\n"
     ]
    }
   ],
   "source": [
    "total = loja4['Frete'].sum()\n",
    "\n",
    "print(\"=\" * 50)\n",
    "print(\"    Cálculo do Total e Média de Frete - Loja 1        \")\n",
    "print(\"=\" * 50)\n",
    "print(f\"Total de frete:  R$ {total:,.2f}\")  \n",
    "\n",
    "qtd = len(loja4['Frete'])\n",
    "print(f\"Quantidade de registros: {qtd}\")\n",
    "\n",
    "# Calcular a média\n",
    "media_frete_loja4 = total / qtd\n",
    "print(f\"Média do frete:  R$ {media_frete_loja4:,.2f}\") \n",
    "print(\"=\" * 50)\n"
   ]
  },
  {
   "cell_type": "markdown",
   "metadata": {},
   "source": [
    "# Grafico de barras  com a média de frete de cada loja"
   ]
  },
  {
   "cell_type": "code",
   "execution_count": 324,
   "metadata": {},
   "outputs": [
    {
     "data": {
      "image/png": "[encoded data removed]",
      "text/plain": [
       "<Figure size 1500x500 with 1 Axes>"
      ]
     },
     "metadata": {},
     "output_type": "display_data"
    }
   ],
   "source": [
    "resultados = [media_frete_loja1, media_frete_loja2, media_frete_loja3, media_frete_loja4]\n",
    "\n",
    "lojas = ['Loja 1', 'Loja 2', 'Loja 3', 'Loja 4']\n",
    "\n",
    "cores = ['#FF6347', '#4682B4', '#32CD32', '#FFD700']\n",
    "\n",
    "plt.figure(figsize=(15, 5))\n",
    "plt.bar(lojas, resultados, color=cores)\n",
    "\n",
    "plt.title('Média de Frete por Loja', fontsize=14)\n",
    "plt.xlabel('Lojas', fontsize=12)\n",
    "plt.ylabel('Média de Frete (R$)', fontsize=12)\n",
    "\n",
    "for i, v in enumerate(resultados):\n",
    "    plt.text(i, v , f'R$ {v:,.2f}', ha='center', va='bottom', fontsize=10)\n",
    "\n",
    "# Mostrar o gráfico\n",
    "plt.tight_layout()\n",
    "plt.show()\n"
   ]
  },
  {
   "cell_type": "code",
   "execution_count": null,
   "metadata": {},
   "outputs": [],
   "source": []
  }
 ],
 "metadata": {
  "colab": {
   "provenance": []
  },
  "kernelspec": {
   "display_name": "Python 3 (ipykernel)",
   "language": "python",
   "name": "python3"
  },
  "language_info": {
   "codemirror_mode": {
    "name": "ipython",
    "version": 3
   },
   "file_extension": ".py",
   "mimetype": "text/x-python",
   "name": "python",
   "nbconvert_exporter": "python",
   "pygments_lexer": "ipython3",
   "version": "3.12.4"
  }
 },
 "nbformat": 4,
 "nbformat_minor": 4
}
